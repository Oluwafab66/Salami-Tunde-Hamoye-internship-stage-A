{
  "nbformat": 4,
  "nbformat_minor": 0,
  "metadata": {
    "colab": {
      "name": "Salami Tunde Hamoye internship stage A.ipynb",
      "provenance": [],
      "authorship_tag": "ABX9TyNNXS4DXEpPjd0vcoee2Edy",
      "include_colab_link": true
    },
    "kernelspec": {
      "name": "python3",
      "display_name": "Python 3"
    }
  },
  "cells": [
    {
      "cell_type": "markdown",
      "metadata": {
        "id": "view-in-github",
        "colab_type": "text"
      },
      "source": [
        "<a href=\"https://colab.research.google.com/github/Oluwafab66/Salami-Tunde-Hamoye-internship-stage-A/blob/master/Salami_Tunde_Hamoye_internship_stage_A.ipynb\" target=\"_parent\"><img src=\"https://colab.research.google.com/assets/colab-badge.svg\" alt=\"Open In Colab\"/></a>"
      ]
    },
    {
      "cell_type": "code",
      "metadata": {
        "id": "mFiVx8UHEjCS",
        "colab_type": "code",
        "colab": {}
      },
      "source": [
        "import pandas as pd\n",
        "import numpy as np"
      ],
      "execution_count": 1,
      "outputs": []
    },
    {
      "cell_type": "code",
      "metadata": {
        "id": "ONe_UmSgEvG8",
        "colab_type": "code",
        "colab": {}
      },
      "source": [
        "read_file=pd.read_csv ('https://raw.githubusercontent.com/WalePhenomenon/climate_change/master/fuel_ferc1.csv',delimiter=',')"
      ],
      "execution_count": 3,
      "outputs": []
    },
    {
      "cell_type": "code",
      "metadata": {
        "id": "Ih4a7LNnHVTG",
        "colab_type": "code",
        "colab": {
          "base_uri": "https://localhost:8080/",
          "height": 34
        },
        "outputId": "6134ad13-d883-4d14-f74f-1a20ae40df63"
      },
      "source": [
        " \n",
        "#Create a new list from two elements A and B\n",
        " \n",
        "A=[1,2,3,4,5,6]\n",
        "B=[13,21,34]\n",
        "A.extend (B)\n",
        "print(A)"
      ],
      "execution_count": 4,
      "outputs": [
        {
          "output_type": "stream",
          "text": [
            "[1, 2, 3, 4, 5, 6, 13, 21, 34]\n"
          ],
          "name": "stdout"
        }
      ]
    },
    {
      "cell_type": "code",
      "metadata": {
        "id": "0wcKiv-7Hf9_",
        "colab_type": "code",
        "colab": {
          "base_uri": "https://localhost:8080/",
          "height": 286
        },
        "outputId": "18306cfb-44d7-47ed-8587-24aaa8054cb5"
      },
      "source": [
        " \n",
        "#To calculate the fuel type code that has the lowest average fuel cost per unit burned\n",
        " \n",
        " \n",
        "p=pd.DataFrame (read_file.groupby('fuel_type_code_pudl')['fuel_cost_per_unit_delivered'].mean ().sort_values ())\n",
        " \n",
        "p"
      ],
      "execution_count": 5,
      "outputs": [
        {
          "output_type": "execute_result",
          "data": {
            "text/html": [
              "<div>\n",
              "<style scoped>\n",
              "    .dataframe tbody tr th:only-of-type {\n",
              "        vertical-align: middle;\n",
              "    }\n",
              "\n",
              "    .dataframe tbody tr th {\n",
              "        vertical-align: top;\n",
              "    }\n",
              "\n",
              "    .dataframe thead th {\n",
              "        text-align: right;\n",
              "    }\n",
              "</style>\n",
              "<table border=\"1\" class=\"dataframe\">\n",
              "  <thead>\n",
              "    <tr style=\"text-align: right;\">\n",
              "      <th></th>\n",
              "      <th>fuel_cost_per_unit_delivered</th>\n",
              "    </tr>\n",
              "    <tr>\n",
              "      <th>fuel_type_code_pudl</th>\n",
              "      <th></th>\n",
              "    </tr>\n",
              "  </thead>\n",
              "  <tbody>\n",
              "    <tr>\n",
              "      <th>gas</th>\n",
              "      <td>12.095172</td>\n",
              "    </tr>\n",
              "    <tr>\n",
              "      <th>other</th>\n",
              "      <td>16.871485</td>\n",
              "    </tr>\n",
              "    <tr>\n",
              "      <th>waste</th>\n",
              "      <td>18.413052</td>\n",
              "    </tr>\n",
              "    <tr>\n",
              "      <th>coal</th>\n",
              "      <td>116.951141</td>\n",
              "    </tr>\n",
              "    <tr>\n",
              "      <th>oil</th>\n",
              "      <td>313.907691</td>\n",
              "    </tr>\n",
              "    <tr>\n",
              "      <th>nuclear</th>\n",
              "      <td>28616.915039</td>\n",
              "    </tr>\n",
              "  </tbody>\n",
              "</table>\n",
              "</div>"
            ],
            "text/plain": [
              "                     fuel_cost_per_unit_delivered\n",
              "fuel_type_code_pudl                              \n",
              "gas                                     12.095172\n",
              "other                                   16.871485\n",
              "waste                                   18.413052\n",
              "coal                                   116.951141\n",
              "oil                                    313.907691\n",
              "nuclear                              28616.915039"
            ]
          },
          "metadata": {
            "tags": []
          },
          "execution_count": 5
        }
      ]
    },
    {
      "cell_type": "code",
      "metadata": {
        "id": "Uyg56TpFIIOr",
        "colab_type": "code",
        "colab": {
          "base_uri": "https://localhost:8080/",
          "height": 34
        },
        "outputId": "639ce67d-ea64-4a86-d454-35b292d755d1"
      },
      "source": [
        " \n",
        "#Calculate the standard deviation of energy per unit into two decimal places\n",
        " \n",
        "df=read_file ['fuel_mmbtu_per_unit'].std ()\n",
        " \n",
        "#print the value of standard deviation in two decimal places\n",
        " \n",
        "print (round (df,2))"
      ],
      "execution_count": 6,
      "outputs": [
        {
          "output_type": "stream",
          "text": [
            "10.6\n"
          ],
          "name": "stdout"
        }
      ]
    },
    {
      "cell_type": "code",
      "metadata": {
        "id": "GBzBd-oSIbgJ",
        "colab_type": "code",
        "colab": {
          "base_uri": "https://localhost:8080/",
          "height": 34
        },
        "outputId": "db5d5b1d-d697-408e-9599-7cbeb9b730bf"
      },
      "source": [
        " \n",
        "# calculate the 75th percentile of the measure of energy per unit\n",
        "df_file=read_file ['fuel_mmbtu_per_unit']\n",
        " \n",
        "#Method to calculate the 75th percentile\n",
        "Y = np.percentile (df_file,75)\n",
        " \n",
        "#print the percentile value to two decimal places\n",
        "print (round (Y,2))"
      ],
      "execution_count": 7,
      "outputs": [
        {
          "output_type": "stream",
          "text": [
            "17.01\n"
          ],
          "name": "stdout"
        }
      ]
    },
    {
      "cell_type": "code",
      "metadata": {
        "id": "GIqqB2bPI7Rq",
        "colab_type": "code",
        "colab": {
          "base_uri": "https://localhost:8080/",
          "height": 34
        },
        "outputId": "04febb3a-82a0-49ee-e85d-04ad6e2652cf"
      },
      "source": [
        " \n",
        "#calculating the skewness of fuel quantity burned\n",
        " \n",
        "Fuel_burn=read_file['fuel_qty_burned'].skew()\n",
        " \n",
        "#print the value of skewnes of fuel quantity burned\n",
        "print (round (Fuel_burn,2))"
      ],
      "execution_count": 8,
      "outputs": [
        {
          "output_type": "stream",
          "text": [
            "15.85\n"
          ],
          "name": "stdout"
        }
      ]
    },
    {
      "cell_type": "code",
      "metadata": {
        "id": "BydKxymRJc1B",
        "colab_type": "code",
        "colab": {
          "base_uri": "https://localhost:8080/",
          "height": 34
        },
        "outputId": "791adeb7-d700-442a-a3b8-551533f622c2"
      },
      "source": [
        " \n",
        "#calculating the kurtosis of fuel quantity burned\n",
        " \n",
        "Fuel_burn1=read_file['fuel_qty_burned'].kurt()\n",
        " \n",
        "#print the value of kurtosis of fuel quantity burned\n",
        "print (round (Fuel_burn1,2))"
      ],
      "execution_count": 9,
      "outputs": [
        {
          "output_type": "stream",
          "text": [
            "651.37\n"
          ],
          "name": "stdout"
        }
      ]
    },
    {
      "cell_type": "code",
      "metadata": {
        "id": "Bw9iGopmJzym",
        "colab_type": "code",
        "colab": {
          "base_uri": "https://localhost:8080/",
          "height": 390
        },
        "outputId": "eba98a5c-40b6-4394-ec5c-eddd62ac802a"
      },
      "source": [
        " \n",
        "#Feature with highest missing values\n",
        " \n",
        "Miss_values=pd.DataFrame (read_file.isnull().sum ())\n",
        " \n",
        "Miss_values"
      ],
      "execution_count": 10,
      "outputs": [
        {
          "output_type": "execute_result",
          "data": {
            "text/html": [
              "<div>\n",
              "<style scoped>\n",
              "    .dataframe tbody tr th:only-of-type {\n",
              "        vertical-align: middle;\n",
              "    }\n",
              "\n",
              "    .dataframe tbody tr th {\n",
              "        vertical-align: top;\n",
              "    }\n",
              "\n",
              "    .dataframe thead th {\n",
              "        text-align: right;\n",
              "    }\n",
              "</style>\n",
              "<table border=\"1\" class=\"dataframe\">\n",
              "  <thead>\n",
              "    <tr style=\"text-align: right;\">\n",
              "      <th></th>\n",
              "      <th>0</th>\n",
              "    </tr>\n",
              "  </thead>\n",
              "  <tbody>\n",
              "    <tr>\n",
              "      <th>record_id</th>\n",
              "      <td>0</td>\n",
              "    </tr>\n",
              "    <tr>\n",
              "      <th>utility_id_ferc1</th>\n",
              "      <td>0</td>\n",
              "    </tr>\n",
              "    <tr>\n",
              "      <th>report_year</th>\n",
              "      <td>0</td>\n",
              "    </tr>\n",
              "    <tr>\n",
              "      <th>plant_name_ferc1</th>\n",
              "      <td>0</td>\n",
              "    </tr>\n",
              "    <tr>\n",
              "      <th>fuel_type_code_pudl</th>\n",
              "      <td>0</td>\n",
              "    </tr>\n",
              "    <tr>\n",
              "      <th>fuel_unit</th>\n",
              "      <td>180</td>\n",
              "    </tr>\n",
              "    <tr>\n",
              "      <th>fuel_qty_burned</th>\n",
              "      <td>0</td>\n",
              "    </tr>\n",
              "    <tr>\n",
              "      <th>fuel_mmbtu_per_unit</th>\n",
              "      <td>0</td>\n",
              "    </tr>\n",
              "    <tr>\n",
              "      <th>fuel_cost_per_unit_burned</th>\n",
              "      <td>0</td>\n",
              "    </tr>\n",
              "    <tr>\n",
              "      <th>fuel_cost_per_unit_delivered</th>\n",
              "      <td>0</td>\n",
              "    </tr>\n",
              "    <tr>\n",
              "      <th>fuel_cost_per_mmbtu</th>\n",
              "      <td>0</td>\n",
              "    </tr>\n",
              "  </tbody>\n",
              "</table>\n",
              "</div>"
            ],
            "text/plain": [
              "                                0\n",
              "record_id                       0\n",
              "utility_id_ferc1                0\n",
              "report_year                     0\n",
              "plant_name_ferc1                0\n",
              "fuel_type_code_pudl             0\n",
              "fuel_unit                     180\n",
              "fuel_qty_burned                 0\n",
              "fuel_mmbtu_per_unit             0\n",
              "fuel_cost_per_unit_burned       0\n",
              "fuel_cost_per_unit_delivered    0\n",
              "fuel_cost_per_mmbtu             0"
            ]
          },
          "metadata": {
            "tags": []
          },
          "execution_count": 10
        }
      ]
    },
    {
      "cell_type": "code",
      "metadata": {
        "id": "ZoxWAUBVJ-cN",
        "colab_type": "code",
        "colab": {
          "base_uri": "https://localhost:8080/",
          "height": 54
        },
        "outputId": "0d0829c6-8028-49c8-9c63-f50e2ff5f0a0"
      },
      "source": [
        " \n",
        "#Entering the values for variables\n",
        "#x = value of fuel_unit which has highest misssing values\n",
        "#y=Total number of rows\n",
        " \n",
        "x=180\n",
        "y=29523\n",
        " \n",
        "#calculate percentage of the missing rows\n",
        " \n",
        "perc=(x * 100)/y\n",
        " \n",
        "print ('The percentage of the missing rows as a factor of the total number of rows is :',round (perc,3))"
      ],
      "execution_count": 11,
      "outputs": [
        {
          "output_type": "stream",
          "text": [
            "The percentage of the missing rows as a factor of the total number of rows is : 0.61\n"
          ],
          "name": "stdout"
        }
      ]
    },
    {
      "cell_type": "code",
      "metadata": {
        "id": "ycsj4JfTKNt_",
        "colab_type": "code",
        "colab": {
          "base_uri": "https://localhost:8080/",
          "height": 875
        },
        "outputId": "4fb0a625-e9a5-4f58-e936-9e6ad629b5c6"
      },
      "source": [
        " \n",
        "# To determine the year with the highest average of fuel cost per unit delivered\n",
        " \n",
        "High_avg=pd.DataFrame(read_file.groupby('report_year')['fuel_cost_per_unit_delivered'].mean().sort_values())\n",
        " \n",
        "#Prints the averages\n",
        " \n",
        "High_avg"
      ],
      "execution_count": 12,
      "outputs": [
        {
          "output_type": "execute_result",
          "data": {
            "text/html": [
              "<div>\n",
              "<style scoped>\n",
              "    .dataframe tbody tr th:only-of-type {\n",
              "        vertical-align: middle;\n",
              "    }\n",
              "\n",
              "    .dataframe tbody tr th {\n",
              "        vertical-align: top;\n",
              "    }\n",
              "\n",
              "    .dataframe thead th {\n",
              "        text-align: right;\n",
              "    }\n",
              "</style>\n",
              "<table border=\"1\" class=\"dataframe\">\n",
              "  <thead>\n",
              "    <tr style=\"text-align: right;\">\n",
              "      <th></th>\n",
              "      <th>fuel_cost_per_unit_delivered</th>\n",
              "    </tr>\n",
              "    <tr>\n",
              "      <th>report_year</th>\n",
              "      <th></th>\n",
              "    </tr>\n",
              "  </thead>\n",
              "  <tbody>\n",
              "    <tr>\n",
              "      <th>1999</th>\n",
              "      <td>25.551627</td>\n",
              "    </tr>\n",
              "    <tr>\n",
              "      <th>1995</th>\n",
              "      <td>32.735269</td>\n",
              "    </tr>\n",
              "    <tr>\n",
              "      <th>2006</th>\n",
              "      <td>38.657484</td>\n",
              "    </tr>\n",
              "    <tr>\n",
              "      <th>2005</th>\n",
              "      <td>41.438184</td>\n",
              "    </tr>\n",
              "    <tr>\n",
              "      <th>2007</th>\n",
              "      <td>43.325023</td>\n",
              "    </tr>\n",
              "    <tr>\n",
              "      <th>2017</th>\n",
              "      <td>46.196861</td>\n",
              "    </tr>\n",
              "    <tr>\n",
              "      <th>2002</th>\n",
              "      <td>47.594361</td>\n",
              "    </tr>\n",
              "    <tr>\n",
              "      <th>2003</th>\n",
              "      <td>55.663493</td>\n",
              "    </tr>\n",
              "    <tr>\n",
              "      <th>2008</th>\n",
              "      <td>58.588197</td>\n",
              "    </tr>\n",
              "    <tr>\n",
              "      <th>2011</th>\n",
              "      <td>59.774667</td>\n",
              "    </tr>\n",
              "    <tr>\n",
              "      <th>2001</th>\n",
              "      <td>60.050396</td>\n",
              "    </tr>\n",
              "    <tr>\n",
              "      <th>2012</th>\n",
              "      <td>60.994502</td>\n",
              "    </tr>\n",
              "    <tr>\n",
              "      <th>1994</th>\n",
              "      <td>63.636060</td>\n",
              "    </tr>\n",
              "    <tr>\n",
              "      <th>2010</th>\n",
              "      <td>91.862105</td>\n",
              "    </tr>\n",
              "    <tr>\n",
              "      <th>2016</th>\n",
              "      <td>103.901761</td>\n",
              "    </tr>\n",
              "    <tr>\n",
              "      <th>2004</th>\n",
              "      <td>139.524275</td>\n",
              "    </tr>\n",
              "    <tr>\n",
              "      <th>2013</th>\n",
              "      <td>172.307591</td>\n",
              "    </tr>\n",
              "    <tr>\n",
              "      <th>2014</th>\n",
              "      <td>192.737183</td>\n",
              "    </tr>\n",
              "    <tr>\n",
              "      <th>1998</th>\n",
              "      <td>287.154420</td>\n",
              "    </tr>\n",
              "    <tr>\n",
              "      <th>2015</th>\n",
              "      <td>326.535511</td>\n",
              "    </tr>\n",
              "    <tr>\n",
              "      <th>2018</th>\n",
              "      <td>499.269966</td>\n",
              "    </tr>\n",
              "    <tr>\n",
              "      <th>2009</th>\n",
              "      <td>652.694163</td>\n",
              "    </tr>\n",
              "    <tr>\n",
              "      <th>2000</th>\n",
              "      <td>985.362877</td>\n",
              "    </tr>\n",
              "    <tr>\n",
              "      <th>1996</th>\n",
              "      <td>9196.705948</td>\n",
              "    </tr>\n",
              "    <tr>\n",
              "      <th>1997</th>\n",
              "      <td>11140.197239</td>\n",
              "    </tr>\n",
              "  </tbody>\n",
              "</table>\n",
              "</div>"
            ],
            "text/plain": [
              "             fuel_cost_per_unit_delivered\n",
              "report_year                              \n",
              "1999                            25.551627\n",
              "1995                            32.735269\n",
              "2006                            38.657484\n",
              "2005                            41.438184\n",
              "2007                            43.325023\n",
              "2017                            46.196861\n",
              "2002                            47.594361\n",
              "2003                            55.663493\n",
              "2008                            58.588197\n",
              "2011                            59.774667\n",
              "2001                            60.050396\n",
              "2012                            60.994502\n",
              "1994                            63.636060\n",
              "2010                            91.862105\n",
              "2016                           103.901761\n",
              "2004                           139.524275\n",
              "2013                           172.307591\n",
              "2014                           192.737183\n",
              "1998                           287.154420\n",
              "2015                           326.535511\n",
              "2018                           499.269966\n",
              "2009                           652.694163\n",
              "2000                           985.362877\n",
              "1996                          9196.705948\n",
              "1997                         11140.197239"
            ]
          },
          "metadata": {
            "tags": []
          },
          "execution_count": 12
        }
      ]
    },
    {
      "cell_type": "code",
      "metadata": {
        "id": "J8QLPDC3Kj7o",
        "colab_type": "code",
        "colab": {
          "base_uri": "https://localhost:8080/",
          "height": 54
        },
        "outputId": "2a82976e-ba18-447f-c263-f38344b54435"
      },
      "source": [
        " \n",
        "#A sub dataset of only coal fuel type\n",
        " \n",
        "coal_value=read_file.loc [read_file ['fuel_type_code_pudl']=='coal']\n",
        " \n",
        "#Grouping the coal_data above their reported years\n",
        " \n",
        "grp_coal=coal_value.groupby ('report_year').sum ()\n",
        " \n",
        "#selecting the appropriate years needed for our analysis and saving them in two seperaye variables\n",
        " \n",
        "year_1,year_2 = grp_coal.loc [[1994,1998],'fuel_cost_per_unit_burned']\n",
        " \n",
        "#perform the percentage change in the coal fuel type\n",
        " \n",
        "coal_percent_change= ((year_2-year_1)/year_1)*100\n",
        " \n",
        "x= coal_percent_change\n",
        " \n",
        "print (\"The percentage change of coal in 1998 compared to 1994 is:\",round (x) ,'%')"
      ],
      "execution_count": 13,
      "outputs": [
        {
          "output_type": "stream",
          "text": [
            "The percentage change of coal in 1998 compared to 1994 is: -21 %\n"
          ],
          "name": "stdout"
        }
      ]
    },
    {
      "cell_type": "code",
      "metadata": {
        "id": "pU_e_5RzK7Ic",
        "colab_type": "code",
        "colab": {
          "base_uri": "https://localhost:8080/",
          "height": 286
        },
        "outputId": "f837e571-65fc-44e4-ec25-f44365b25b9f"
      },
      "source": [
        " read_file.corr(method ='kendall')"
      ],
      "execution_count": 14,
      "outputs": [
        {
          "output_type": "execute_result",
          "data": {
            "text/html": [
              "<div>\n",
              "<style scoped>\n",
              "    .dataframe tbody tr th:only-of-type {\n",
              "        vertical-align: middle;\n",
              "    }\n",
              "\n",
              "    .dataframe tbody tr th {\n",
              "        vertical-align: top;\n",
              "    }\n",
              "\n",
              "    .dataframe thead th {\n",
              "        text-align: right;\n",
              "    }\n",
              "</style>\n",
              "<table border=\"1\" class=\"dataframe\">\n",
              "  <thead>\n",
              "    <tr style=\"text-align: right;\">\n",
              "      <th></th>\n",
              "      <th>utility_id_ferc1</th>\n",
              "      <th>report_year</th>\n",
              "      <th>fuel_qty_burned</th>\n",
              "      <th>fuel_mmbtu_per_unit</th>\n",
              "      <th>fuel_cost_per_unit_burned</th>\n",
              "      <th>fuel_cost_per_unit_delivered</th>\n",
              "      <th>fuel_cost_per_mmbtu</th>\n",
              "    </tr>\n",
              "  </thead>\n",
              "  <tbody>\n",
              "    <tr>\n",
              "      <th>utility_id_ferc1</th>\n",
              "      <td>1.000000</td>\n",
              "      <td>0.046176</td>\n",
              "      <td>-0.034217</td>\n",
              "      <td>-0.064722</td>\n",
              "      <td>-0.049750</td>\n",
              "      <td>-0.045562</td>\n",
              "      <td>-0.011386</td>\n",
              "    </tr>\n",
              "    <tr>\n",
              "      <th>report_year</th>\n",
              "      <td>0.046176</td>\n",
              "      <td>1.000000</td>\n",
              "      <td>-0.053437</td>\n",
              "      <td>-0.030246</td>\n",
              "      <td>0.164699</td>\n",
              "      <td>0.125741</td>\n",
              "      <td>0.266284</td>\n",
              "    </tr>\n",
              "    <tr>\n",
              "      <th>fuel_qty_burned</th>\n",
              "      <td>-0.034217</td>\n",
              "      <td>-0.053437</td>\n",
              "      <td>1.000000</td>\n",
              "      <td>0.054576</td>\n",
              "      <td>-0.261359</td>\n",
              "      <td>-0.176655</td>\n",
              "      <td>-0.363151</td>\n",
              "    </tr>\n",
              "    <tr>\n",
              "      <th>fuel_mmbtu_per_unit</th>\n",
              "      <td>-0.064722</td>\n",
              "      <td>-0.030246</td>\n",
              "      <td>0.054576</td>\n",
              "      <td>1.000000</td>\n",
              "      <td>0.346381</td>\n",
              "      <td>0.307467</td>\n",
              "      <td>-0.152250</td>\n",
              "    </tr>\n",
              "    <tr>\n",
              "      <th>fuel_cost_per_unit_burned</th>\n",
              "      <td>-0.049750</td>\n",
              "      <td>0.164699</td>\n",
              "      <td>-0.261359</td>\n",
              "      <td>0.346381</td>\n",
              "      <td>1.000000</td>\n",
              "      <td>0.743975</td>\n",
              "      <td>0.321004</td>\n",
              "    </tr>\n",
              "    <tr>\n",
              "      <th>fuel_cost_per_unit_delivered</th>\n",
              "      <td>-0.045562</td>\n",
              "      <td>0.125741</td>\n",
              "      <td>-0.176655</td>\n",
              "      <td>0.307467</td>\n",
              "      <td>0.743975</td>\n",
              "      <td>1.000000</td>\n",
              "      <td>0.225250</td>\n",
              "    </tr>\n",
              "    <tr>\n",
              "      <th>fuel_cost_per_mmbtu</th>\n",
              "      <td>-0.011386</td>\n",
              "      <td>0.266284</td>\n",
              "      <td>-0.363151</td>\n",
              "      <td>-0.152250</td>\n",
              "      <td>0.321004</td>\n",
              "      <td>0.225250</td>\n",
              "      <td>1.000000</td>\n",
              "    </tr>\n",
              "  </tbody>\n",
              "</table>\n",
              "</div>"
            ],
            "text/plain": [
              "                              utility_id_ferc1  ...  fuel_cost_per_mmbtu\n",
              "utility_id_ferc1                      1.000000  ...            -0.011386\n",
              "report_year                           0.046176  ...             0.266284\n",
              "fuel_qty_burned                      -0.034217  ...            -0.363151\n",
              "fuel_mmbtu_per_unit                  -0.064722  ...            -0.152250\n",
              "fuel_cost_per_unit_burned            -0.049750  ...             0.321004\n",
              "fuel_cost_per_unit_delivered         -0.045562  ...             0.225250\n",
              "fuel_cost_per_mmbtu                  -0.011386  ...             1.000000\n",
              "\n",
              "[7 rows x 7 columns]"
            ]
          },
          "metadata": {
            "tags": []
          },
          "execution_count": 14
        }
      ]
    },
    {
      "cell_type": "code",
      "metadata": {
        "id": "AQ7KGcXLLMYT",
        "colab_type": "code",
        "colab": {
          "base_uri": "https://localhost:8080/",
          "height": 286
        },
        "outputId": "d77d26d6-98ea-4a56-9e17-b8d87fe2ef68"
      },
      "source": [
        "read_file.corr(method ='pearson')"
      ],
      "execution_count": 15,
      "outputs": [
        {
          "output_type": "execute_result",
          "data": {
            "text/html": [
              "<div>\n",
              "<style scoped>\n",
              "    .dataframe tbody tr th:only-of-type {\n",
              "        vertical-align: middle;\n",
              "    }\n",
              "\n",
              "    .dataframe tbody tr th {\n",
              "        vertical-align: top;\n",
              "    }\n",
              "\n",
              "    .dataframe thead th {\n",
              "        text-align: right;\n",
              "    }\n",
              "</style>\n",
              "<table border=\"1\" class=\"dataframe\">\n",
              "  <thead>\n",
              "    <tr style=\"text-align: right;\">\n",
              "      <th></th>\n",
              "      <th>utility_id_ferc1</th>\n",
              "      <th>report_year</th>\n",
              "      <th>fuel_qty_burned</th>\n",
              "      <th>fuel_mmbtu_per_unit</th>\n",
              "      <th>fuel_cost_per_unit_burned</th>\n",
              "      <th>fuel_cost_per_unit_delivered</th>\n",
              "      <th>fuel_cost_per_mmbtu</th>\n",
              "    </tr>\n",
              "  </thead>\n",
              "  <tbody>\n",
              "    <tr>\n",
              "      <th>utility_id_ferc1</th>\n",
              "      <td>1.000000</td>\n",
              "      <td>0.093323</td>\n",
              "      <td>-0.057447</td>\n",
              "      <td>-0.066946</td>\n",
              "      <td>-0.037863</td>\n",
              "      <td>-0.016414</td>\n",
              "      <td>0.006122</td>\n",
              "    </tr>\n",
              "    <tr>\n",
              "      <th>report_year</th>\n",
              "      <td>0.093323</td>\n",
              "      <td>1.000000</td>\n",
              "      <td>0.012952</td>\n",
              "      <td>-0.110853</td>\n",
              "      <td>0.013599</td>\n",
              "      <td>-0.014043</td>\n",
              "      <td>0.010261</td>\n",
              "    </tr>\n",
              "    <tr>\n",
              "      <th>fuel_qty_burned</th>\n",
              "      <td>-0.057447</td>\n",
              "      <td>0.012952</td>\n",
              "      <td>1.000000</td>\n",
              "      <td>-0.080946</td>\n",
              "      <td>-0.018535</td>\n",
              "      <td>-0.003551</td>\n",
              "      <td>-0.001896</td>\n",
              "    </tr>\n",
              "    <tr>\n",
              "      <th>fuel_mmbtu_per_unit</th>\n",
              "      <td>-0.066946</td>\n",
              "      <td>-0.110853</td>\n",
              "      <td>-0.080946</td>\n",
              "      <td>1.000000</td>\n",
              "      <td>-0.010034</td>\n",
              "      <td>-0.009039</td>\n",
              "      <td>-0.005884</td>\n",
              "    </tr>\n",
              "    <tr>\n",
              "      <th>fuel_cost_per_unit_burned</th>\n",
              "      <td>-0.037863</td>\n",
              "      <td>0.013599</td>\n",
              "      <td>-0.018535</td>\n",
              "      <td>-0.010034</td>\n",
              "      <td>1.000000</td>\n",
              "      <td>0.011007</td>\n",
              "      <td>-0.000437</td>\n",
              "    </tr>\n",
              "    <tr>\n",
              "      <th>fuel_cost_per_unit_delivered</th>\n",
              "      <td>-0.016414</td>\n",
              "      <td>-0.014043</td>\n",
              "      <td>-0.003551</td>\n",
              "      <td>-0.009039</td>\n",
              "      <td>0.011007</td>\n",
              "      <td>1.000000</td>\n",
              "      <td>-0.000109</td>\n",
              "    </tr>\n",
              "    <tr>\n",
              "      <th>fuel_cost_per_mmbtu</th>\n",
              "      <td>0.006122</td>\n",
              "      <td>0.010261</td>\n",
              "      <td>-0.001896</td>\n",
              "      <td>-0.005884</td>\n",
              "      <td>-0.000437</td>\n",
              "      <td>-0.000109</td>\n",
              "      <td>1.000000</td>\n",
              "    </tr>\n",
              "  </tbody>\n",
              "</table>\n",
              "</div>"
            ],
            "text/plain": [
              "                              utility_id_ferc1  ...  fuel_cost_per_mmbtu\n",
              "utility_id_ferc1                      1.000000  ...             0.006122\n",
              "report_year                           0.093323  ...             0.010261\n",
              "fuel_qty_burned                      -0.057447  ...            -0.001896\n",
              "fuel_mmbtu_per_unit                  -0.066946  ...            -0.005884\n",
              "fuel_cost_per_unit_burned            -0.037863  ...            -0.000437\n",
              "fuel_cost_per_unit_delivered         -0.016414  ...            -0.000109\n",
              "fuel_cost_per_mmbtu                   0.006122  ...             1.000000\n",
              "\n",
              "[7 rows x 7 columns]"
            ]
          },
          "metadata": {
            "tags": []
          },
          "execution_count": 15
        }
      ]
    }
  ]
}